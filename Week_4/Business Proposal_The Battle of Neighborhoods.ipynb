{
 "cells": [
  {
   "cell_type": "markdown",
   "metadata": {},
   "source": [
    "# <h1 align=right><font size = 4>Date:17/05/2020</font></h1>"
   ]
  },
  {
   "cell_type": "markdown",
   "metadata": {
    "collapsed": true
   },
   "source": [
    "# The Battle of Neighborhoods - Introduction | Business Problem"
   ]
  },
  {
   "cell_type": "markdown",
   "metadata": {},
   "source": [
    "### Introduction\n",
    "\n",
    "The purpose of this Project is to help people avoid common places for their saftey and family due to Covid-19 crisis. It will help people making smart and efficient decision on selecting neighborhood places out of numbers of other neighborhoods in Toronto.\n",
    "\n",
    "Lots of people movement around the common places might be infectious for persons to travel who might get infected and spread the virus to friends & family members. And these common places are at high risk and prone to spread infection as cluster. And its good to avoid such places to have or stop Covid-19 virus infection.\n",
    "\n",
    "This Project aim to create an analysis of most visited common places for people to take precautionary steps before passing through or avoid such places to buy their groceries and vegetables.\n",
    "\n",
    "It will help people to get awareness of the area and neighborhood before moving out for their daily chores.\n",
    "\n",
    "\n",
    "### Problem to Solve\n",
    "\n",
    "The major purpose of this project, is to suggest or identify common places which has more people movement in and around the neighborhood city prone to Covid-19 infection spread. Social distancing and avoiding the common places such as metros, airport, bus stand, beaches, markets and other more people movement areas. Identify and sort top 10 places prone to Covid-19 infection spread.\n",
    "\n",
    "\n",
    "### Location\n",
    "\n",
    "Toronta area in Canada has most people movement in and around the city to get their daily needs to be transported or purchase the groceries and vegetables. Due Covid-19 crisis many governments asking people not to move around the city to avoid the Covid-19 infection spread. This has become hot topic to restrict the people movement in common places and had to shift essential goods or stores to other places inorder to maintain social distancing.\n",
    "\n",
    "\n",
    "### Foursquare API\n",
    "\n",
    "This project would use Four-square API as its prime data gathering source as it has a database of millions of places, especially their places API which provides the ability to perform location search, location sharing and details about a business.\n",
    "\n",
    "\n",
    "### Workflow\n",
    "\n",
    "Using credentials of Foursquare API features of near-by places of the neighborhoods would be mined. Due to http request limitations the number of places per neighborhood parameter would reasonably be set to 100 and the radius parameter would be set to 500.\n",
    "\n",
    "\n",
    "### Clustering Approach\n",
    "\n",
    "To explore the neighborhoods, segment them, and group them into clusters of common places most visited by people in Toronto.\n",
    "And to be able to do that, we need to cluster data which is a form of unsupervised machine learning: k-means clustering algorithm.\n",
    "\n",
    "### Libraries Used\n",
    "\n",
    "Pandas: For creating and manipulating dataframes.\n",
    "\n",
    "Folium: Python visualization library would be used to visualize the neighborhoods cluster distribution of using interactive leaflet map.\n",
    "\n",
    "Scikit Learn: For importing k-means clustering.\n",
    "\n",
    "JSON: Library to handle JSON files.\n",
    "\n",
    "XML: To separate data from presentation and XML stores data in plain text format.\n",
    "\n",
    "Geocoder: To retrieve Location Data.\n",
    "\n",
    "Beautiful Soup and Requests: To scrap and library to handle http requests.\n",
    "\n",
    "Matplotlib: Python Plotting Module."
   ]
  },
  {
   "cell_type": "code",
   "execution_count": null,
   "metadata": {},
   "outputs": [],
   "source": []
  }
 ],
 "metadata": {
  "kernelspec": {
   "display_name": "Python 3",
   "language": "python",
   "name": "python3"
  },
  "language_info": {
   "codemirror_mode": {
    "name": "ipython",
    "version": 3
   },
   "file_extension": ".py",
   "mimetype": "text/x-python",
   "name": "python",
   "nbconvert_exporter": "python",
   "pygments_lexer": "ipython3",
   "version": "3.7.6"
  }
 },
 "nbformat": 4,
 "nbformat_minor": 1
}
